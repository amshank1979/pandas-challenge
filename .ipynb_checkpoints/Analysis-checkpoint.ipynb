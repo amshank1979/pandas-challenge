{
 "cells": [
  {
   "cell_type": "code",
   "execution_count": 45,
   "id": "6817c3f5",
   "metadata": {},
   "outputs": [],
   "source": [
    "import pandas as pd"
   ]
  },
  {
   "cell_type": "code",
   "execution_count": 46,
   "id": "eeff0337",
   "metadata": {},
   "outputs": [],
   "source": [
    "schools_df = pd.read_csv(\"resources/schools_complete.csv\")\n",
    "students_df = pd.read_csv(\"resources/students_complete.csv\")"
   ]
  },
  {
   "cell_type": "code",
   "execution_count": 47,
   "id": "7e6944ee",
   "metadata": {},
   "outputs": [],
   "source": [
    "#Calculate the required metrics for the district and create a DataFrame called district_summary.\n",
    "total_schools = schools_df[\"school_name\"].nunique()"
   ]
  },
  {
   "cell_type": "code",
   "execution_count": 48,
   "id": "e98aa0b4",
   "metadata": {},
   "outputs": [],
   "source": [
    "#Total number of students:\n",
    "total_students = students_df[\"Student ID\"].nunique()"
   ]
  },
  {
   "cell_type": "code",
   "execution_count": 49,
   "id": "054dae0b",
   "metadata": {},
   "outputs": [],
   "source": [
    "#Total budget:\n",
    "total_budget = schools_df[\"budget\"].sum()"
   ]
  },
  {
   "cell_type": "code",
   "execution_count": 50,
   "id": "d8f7e0a4",
   "metadata": {},
   "outputs": [],
   "source": [
    "#Average math score:\n",
    "average_math_score = students_df[\"math_score\"].mean()"
   ]
  },
  {
   "cell_type": "code",
   "execution_count": 51,
   "id": "a43bf2b7",
   "metadata": {},
   "outputs": [],
   "source": [
    "#Average reading score:\n",
    "average_reading_score = students_df[\"reading_score\"].mean()"
   ]
  },
  {
   "cell_type": "code",
   "execution_count": 52,
   "id": "644ec042",
   "metadata": {},
   "outputs": [],
   "source": [
    "#Percentage of students passing math:\n",
    "passing_math_percentage = students_df[students_df[\"math_score\"] >= 70][\"Student ID\"].nunique() / total_students * 100"
   ]
  },
  {
   "cell_type": "code",
   "execution_count": 53,
   "id": "b94091c7",
   "metadata": {},
   "outputs": [],
   "source": [
    "#Percentage of students passing reading:\n",
    "passing_reading_percentage = students_df[students_df[\"reading_score\"] >= 70][\"Student ID\"].nunique() / total_students * 100"
   ]
  },
  {
   "cell_type": "code",
   "execution_count": 54,
   "id": "66d1dd88",
   "metadata": {},
   "outputs": [],
   "source": [
    "#Percentage of students passing both math and reading:\n",
    "passing_overall_percentage = students_df[(students_df[\"math_score\"] >= 70) & (students_df[\"reading_score\"] >= 70)][\"Student ID\"].nunique() / total_students * 100"
   ]
  },
  {
   "cell_type": "code",
   "execution_count": 55,
   "id": "37d30e31",
   "metadata": {},
   "outputs": [],
   "source": [
    "#Create the district_summary DataFrame:\n",
    "district_summary = pd.DataFrame({\n",
    "    \"Total Schools\": [total_schools],\n",
    "    \"Total Students\": [total_students],\n",
    "    \"Total Budget\": [total_budget],\n",
    "    \"Average Math Score\": [average_math_score],\n",
    "    \"Average Reading Score\": [average_reading_score],\n",
    "    \"% Passing Math\": [passing_math_percentage],\n",
    "    \"% Passing Reading\": [passing_reading_percentage],\n",
    "    \"% Overall Passing\": [passing_overall_percentage]\n",
    "})"
   ]
  },
  {
   "cell_type": "code",
   "execution_count": 56,
   "id": "efc5e965",
   "metadata": {},
   "outputs": [],
   "source": [
    "#School Summary\n",
    "#Calculate the required metrics for each school and create a DataFrame\n",
    "#Select School Type\n",
    "school_type = schools_df.set_index(\"school_name\")[\"type\"]"
   ]
  },
  {
   "cell_type": "code",
   "execution_count": 57,
   "id": "c6379445",
   "metadata": {},
   "outputs": [],
   "source": [
    "#Calculate the total student count:\n",
    "total_students_per_school = students_df[\"school_name\"].value_counts()"
   ]
  },
  {
   "cell_type": "code",
   "execution_count": 58,
   "id": "c270a123",
   "metadata": {},
   "outputs": [],
   "source": [
    "#Calculate the total school budget:\n",
    "total_budget_per_school = schools_df.groupby(\"school_name\")[\"budget\"].mean()"
   ]
  },
  {
   "cell_type": "code",
   "execution_count": 59,
   "id": "c55aa9a6",
   "metadata": {},
   "outputs": [],
   "source": [
    "#Calculate the per student budget:\n",
    "per_student_budget = total_budget_per_school / total_students_per_school"
   ]
  },
  {
   "cell_type": "code",
   "execution_count": 60,
   "id": "2f4a321a",
   "metadata": {},
   "outputs": [],
   "source": [
    "#Calculate the average math score per school:\n",
    "average_math_score_per_school = students_df.groupby(\"school_name\")[\"math_score\"].mean()"
   ]
  },
  {
   "cell_type": "code",
   "execution_count": 61,
   "id": "9b351c9a",
   "metadata": {},
   "outputs": [],
   "source": [
    "#Calculate the average reading score per school:\n",
    "average_reading_score_per_school = students_df.groupby(\"school_name\")[\"reading_score\"].mean()"
   ]
  },
  {
   "cell_type": "code",
   "execution_count": 62,
   "id": "5a81f1a2",
   "metadata": {},
   "outputs": [],
   "source": [
    "#Calculate the percentage of students passing math per school:\n",
    "passing_math_percentage_per_school = students_df[students_df[\"math_score\"] >= 70].groupby(\"school_name\")[\"Student ID\"].count() / total_students_per_school * 100"
   ]
  },
  {
   "cell_type": "code",
   "execution_count": 63,
   "id": "f2e2334d",
   "metadata": {},
   "outputs": [],
   "source": [
    "#Calculate the percentage of students passing reading per school:\n",
    "passing_reading_percentage_per_school = students_df[students_df[\"reading_score\"] >= 70].groupby(\"school_name\")[\"Student ID\"].count() / total_students_per_school * 100"
   ]
  },
  {
   "cell_type": "code",
   "execution_count": 64,
   "id": "69593454",
   "metadata": {},
   "outputs": [],
   "source": [
    "#Calculate the percentage of students passing both math and reading per school:\n",
    "passing_overall_percentage_per_school = students_df[(students_df[\"math_score\"] >= 70) & (students_df[\"reading_score\"] >= 70)].groupby(\"school_name\")[\"Student ID\"].count() / total_students_per_school * 100"
   ]
  },
  {
   "cell_type": "code",
   "execution_count": 65,
   "id": "90769e01",
   "metadata": {},
   "outputs": [],
   "source": [
    "#Create the per_school_summary DataFrame:\n",
    "per_school_summary = pd.DataFrame({\n",
    "    \"School Type\": school_type,\n",
    "    \"Total Students\": total_students_per_school,\n",
    "    \"Total School Budget\": total_budget_per_school,\n",
    "    \"Per Student Budget\": per_student_budget,\n",
    "    \"Average Math Score\": average_math_score_per_school,\n",
    "    \"Average Reading Score\": average_reading_score_per_school,\n",
    "    \"% Passing Math\": passing_math_percentage_per_school,\n",
    "    \"% Passing Reading\": passing_reading_percentage_per_school,\n",
    "    \"% Overall Passing\": passing_overall_percentage_per_school\n",
    "})"
   ]
  },
  {
   "cell_type": "code",
   "execution_count": 66,
   "id": "35da1b4e",
   "metadata": {},
   "outputs": [
    {
     "data": {
      "text/html": [
       "<div>\n",
       "<style scoped>\n",
       "    .dataframe tbody tr th:only-of-type {\n",
       "        vertical-align: middle;\n",
       "    }\n",
       "\n",
       "    .dataframe tbody tr th {\n",
       "        vertical-align: top;\n",
       "    }\n",
       "\n",
       "    .dataframe thead th {\n",
       "        text-align: right;\n",
       "    }\n",
       "</style>\n",
       "<table border=\"1\" class=\"dataframe\">\n",
       "  <thead>\n",
       "    <tr style=\"text-align: right;\">\n",
       "      <th></th>\n",
       "      <th>School Type</th>\n",
       "      <th>Total Students</th>\n",
       "      <th>Total School Budget</th>\n",
       "      <th>Per Student Budget</th>\n",
       "      <th>Average Math Score</th>\n",
       "      <th>Average Reading Score</th>\n",
       "      <th>% Passing Math</th>\n",
       "      <th>% Passing Reading</th>\n",
       "      <th>% Overall Passing</th>\n",
       "    </tr>\n",
       "  </thead>\n",
       "  <tbody>\n",
       "    <tr>\n",
       "      <th>Cabrera High School</th>\n",
       "      <td>Charter</td>\n",
       "      <td>1858</td>\n",
       "      <td>1081356.0</td>\n",
       "      <td>582.0</td>\n",
       "      <td>83.061895</td>\n",
       "      <td>83.975780</td>\n",
       "      <td>94.133477</td>\n",
       "      <td>97.039828</td>\n",
       "      <td>91.334769</td>\n",
       "    </tr>\n",
       "    <tr>\n",
       "      <th>Thomas High School</th>\n",
       "      <td>Charter</td>\n",
       "      <td>1635</td>\n",
       "      <td>1043130.0</td>\n",
       "      <td>638.0</td>\n",
       "      <td>83.418349</td>\n",
       "      <td>83.848930</td>\n",
       "      <td>93.272171</td>\n",
       "      <td>97.308869</td>\n",
       "      <td>90.948012</td>\n",
       "    </tr>\n",
       "    <tr>\n",
       "      <th>Griffin High School</th>\n",
       "      <td>Charter</td>\n",
       "      <td>1468</td>\n",
       "      <td>917500.0</td>\n",
       "      <td>625.0</td>\n",
       "      <td>83.351499</td>\n",
       "      <td>83.816757</td>\n",
       "      <td>93.392371</td>\n",
       "      <td>97.138965</td>\n",
       "      <td>90.599455</td>\n",
       "    </tr>\n",
       "    <tr>\n",
       "      <th>Wilson High School</th>\n",
       "      <td>Charter</td>\n",
       "      <td>2283</td>\n",
       "      <td>1319574.0</td>\n",
       "      <td>578.0</td>\n",
       "      <td>83.274201</td>\n",
       "      <td>83.989488</td>\n",
       "      <td>93.867718</td>\n",
       "      <td>96.539641</td>\n",
       "      <td>90.582567</td>\n",
       "    </tr>\n",
       "    <tr>\n",
       "      <th>Pena High School</th>\n",
       "      <td>Charter</td>\n",
       "      <td>962</td>\n",
       "      <td>585858.0</td>\n",
       "      <td>609.0</td>\n",
       "      <td>83.839917</td>\n",
       "      <td>84.044699</td>\n",
       "      <td>94.594595</td>\n",
       "      <td>95.945946</td>\n",
       "      <td>90.540541</td>\n",
       "    </tr>\n",
       "  </tbody>\n",
       "</table>\n",
       "</div>"
      ],
      "text/plain": [
       "                    School Type  Total Students  Total School Budget  \\\n",
       "Cabrera High School     Charter            1858            1081356.0   \n",
       "Thomas High School      Charter            1635            1043130.0   \n",
       "Griffin High School     Charter            1468             917500.0   \n",
       "Wilson High School      Charter            2283            1319574.0   \n",
       "Pena High School        Charter             962             585858.0   \n",
       "\n",
       "                     Per Student Budget  Average Math Score  \\\n",
       "Cabrera High School               582.0           83.061895   \n",
       "Thomas High School                638.0           83.418349   \n",
       "Griffin High School               625.0           83.351499   \n",
       "Wilson High School                578.0           83.274201   \n",
       "Pena High School                  609.0           83.839917   \n",
       "\n",
       "                     Average Reading Score  % Passing Math  % Passing Reading  \\\n",
       "Cabrera High School              83.975780       94.133477          97.039828   \n",
       "Thomas High School               83.848930       93.272171          97.308869   \n",
       "Griffin High School              83.816757       93.392371          97.138965   \n",
       "Wilson High School               83.989488       93.867718          96.539641   \n",
       "Pena High School                 84.044699       94.594595          95.945946   \n",
       "\n",
       "                     % Overall Passing  \n",
       "Cabrera High School          91.334769  \n",
       "Thomas High School           90.948012  \n",
       "Griffin High School          90.599455  \n",
       "Wilson High School           90.582567  \n",
       "Pena High School             90.540541  "
      ]
     },
     "execution_count": 66,
     "metadata": {},
     "output_type": "execute_result"
    }
   ],
   "source": [
    "#Create Highest-Performing Schools (by % Overall Passing)\n",
    "#Sort the schools by % Overall Passing in descending order, save the top 5 schools in a DataFrame called top_schools, and display the results.\n",
    "top_schools = per_school_summary.sort_values(\"% Overall Passing\", ascending=False).head(5)\n",
    "top_schools"
   ]
  },
  {
   "cell_type": "code",
   "execution_count": 67,
   "id": "7fa8ddf6",
   "metadata": {},
   "outputs": [
    {
     "data": {
      "text/html": [
       "<div>\n",
       "<style scoped>\n",
       "    .dataframe tbody tr th:only-of-type {\n",
       "        vertical-align: middle;\n",
       "    }\n",
       "\n",
       "    .dataframe tbody tr th {\n",
       "        vertical-align: top;\n",
       "    }\n",
       "\n",
       "    .dataframe thead th {\n",
       "        text-align: right;\n",
       "    }\n",
       "</style>\n",
       "<table border=\"1\" class=\"dataframe\">\n",
       "  <thead>\n",
       "    <tr style=\"text-align: right;\">\n",
       "      <th></th>\n",
       "      <th>School Type</th>\n",
       "      <th>Total Students</th>\n",
       "      <th>Total School Budget</th>\n",
       "      <th>Per Student Budget</th>\n",
       "      <th>Average Math Score</th>\n",
       "      <th>Average Reading Score</th>\n",
       "      <th>% Passing Math</th>\n",
       "      <th>% Passing Reading</th>\n",
       "      <th>% Overall Passing</th>\n",
       "    </tr>\n",
       "  </thead>\n",
       "  <tbody>\n",
       "    <tr>\n",
       "      <th>Rodriguez High School</th>\n",
       "      <td>District</td>\n",
       "      <td>3999</td>\n",
       "      <td>2547363.0</td>\n",
       "      <td>637.0</td>\n",
       "      <td>76.842711</td>\n",
       "      <td>80.744686</td>\n",
       "      <td>66.366592</td>\n",
       "      <td>80.220055</td>\n",
       "      <td>52.988247</td>\n",
       "    </tr>\n",
       "    <tr>\n",
       "      <th>Figueroa High School</th>\n",
       "      <td>District</td>\n",
       "      <td>2949</td>\n",
       "      <td>1884411.0</td>\n",
       "      <td>639.0</td>\n",
       "      <td>76.711767</td>\n",
       "      <td>81.158020</td>\n",
       "      <td>65.988471</td>\n",
       "      <td>80.739234</td>\n",
       "      <td>53.204476</td>\n",
       "    </tr>\n",
       "    <tr>\n",
       "      <th>Huang High School</th>\n",
       "      <td>District</td>\n",
       "      <td>2917</td>\n",
       "      <td>1910635.0</td>\n",
       "      <td>655.0</td>\n",
       "      <td>76.629414</td>\n",
       "      <td>81.182722</td>\n",
       "      <td>65.683922</td>\n",
       "      <td>81.316421</td>\n",
       "      <td>53.513884</td>\n",
       "    </tr>\n",
       "    <tr>\n",
       "      <th>Hernandez High School</th>\n",
       "      <td>District</td>\n",
       "      <td>4635</td>\n",
       "      <td>3022020.0</td>\n",
       "      <td>652.0</td>\n",
       "      <td>77.289752</td>\n",
       "      <td>80.934412</td>\n",
       "      <td>66.752967</td>\n",
       "      <td>80.862999</td>\n",
       "      <td>53.527508</td>\n",
       "    </tr>\n",
       "    <tr>\n",
       "      <th>Johnson High School</th>\n",
       "      <td>District</td>\n",
       "      <td>4761</td>\n",
       "      <td>3094650.0</td>\n",
       "      <td>650.0</td>\n",
       "      <td>77.072464</td>\n",
       "      <td>80.966394</td>\n",
       "      <td>66.057551</td>\n",
       "      <td>81.222432</td>\n",
       "      <td>53.539172</td>\n",
       "    </tr>\n",
       "  </tbody>\n",
       "</table>\n",
       "</div>"
      ],
      "text/plain": [
       "                      School Type  Total Students  Total School Budget  \\\n",
       "Rodriguez High School    District            3999            2547363.0   \n",
       "Figueroa High School     District            2949            1884411.0   \n",
       "Huang High School        District            2917            1910635.0   \n",
       "Hernandez High School    District            4635            3022020.0   \n",
       "Johnson High School      District            4761            3094650.0   \n",
       "\n",
       "                       Per Student Budget  Average Math Score  \\\n",
       "Rodriguez High School               637.0           76.842711   \n",
       "Figueroa High School                639.0           76.711767   \n",
       "Huang High School                   655.0           76.629414   \n",
       "Hernandez High School               652.0           77.289752   \n",
       "Johnson High School                 650.0           77.072464   \n",
       "\n",
       "                       Average Reading Score  % Passing Math  \\\n",
       "Rodriguez High School              80.744686       66.366592   \n",
       "Figueroa High School               81.158020       65.988471   \n",
       "Huang High School                  81.182722       65.683922   \n",
       "Hernandez High School              80.934412       66.752967   \n",
       "Johnson High School                80.966394       66.057551   \n",
       "\n",
       "                       % Passing Reading  % Overall Passing  \n",
       "Rodriguez High School          80.220055          52.988247  \n",
       "Figueroa High School           80.739234          53.204476  \n",
       "Huang High School              81.316421          53.513884  \n",
       "Hernandez High School          80.862999          53.527508  \n",
       "Johnson High School            81.222432          53.539172  "
      ]
     },
     "execution_count": 67,
     "metadata": {},
     "output_type": "execute_result"
    }
   ],
   "source": [
    "#Create Lowest-Performing Schools (by % Overall Passing)\n",
    "#Sort the schools by % Overall Passing in ascending order, save the top 5 schools in a DataFrame called bottom_schools, and display the results.\n",
    "bottom_schools = per_school_summary.sort_values(\"% Overall Passing\").head(5)\n",
    "bottom_schools"
   ]
  },
  {
   "cell_type": "code",
   "execution_count": 73,
   "id": "3740d084",
   "metadata": {},
   "outputs": [],
   "source": [
    "#Create Math Scores by Grade\n",
    "#Create a DataFrame called math_scores_by_grade that lists the average math score for students of each grade level (9th, 10th, 11th, 12th) at each school.\n",
    "math_scores_by_grade = students_df.pivot_table(index=\"school_name\", columns=\"grade\", values=\"math_score\", aggfunc=\"mean\")"
   ]
  },
  {
   "cell_type": "code",
   "execution_count": 74,
   "id": "651cd6b6",
   "metadata": {},
   "outputs": [],
   "source": [
    "#Create reading Scores by Grade\n",
    "#Create a DataFrame called reading_scores_by_grade that lists the average reading score for students of each grade level (9th, 10th, 11th, 12th) at each school.\n",
    "reading_scores_by_grade = students_df.pivot_table(index=\"school_name\", columns=\"grade\", values=\"reading_score\", aggfunc=\"mean\")"
   ]
  },
  {
   "cell_type": "code",
   "execution_count": 70,
   "id": "ff7354ab",
   "metadata": {},
   "outputs": [
    {
     "name": "stderr",
     "output_type": "stream",
     "text": [
      "C:\\Users\\amie-lynn.shank\\AppData\\Local\\Temp\\ipykernel_21012\\75852580.py:7: FutureWarning: The default value of numeric_only in DataFrameGroupBy.mean is deprecated. In a future version, numeric_only will default to False. Either specify numeric_only or select only columns which should be valid for the function.\n",
      "  school_spending_df = per_school_summary.groupby(\"Spending Ranges (Per Student)\").mean()\n"
     ]
    }
   ],
   "source": [
    "#Create Scores by School Spending\n",
    "#Create a table that breaks down school performance based on average spending ranges (per student) and save it in a DataFrame called spending_summary.\n",
    "spending_bins = [0, 585, 630, 645, 680]\n",
    "labels = [\"<$585\", \"$585-630\", \"$630-645\", \"$645-680\"]\n",
    "\n",
    "per_school_summary[\"Spending Ranges (Per Student)\"] = pd.cut(per_school_summary[\"Per Student Budget\"], spending_bins, labels=labels)\n",
    "school_spending_df = per_school_summary.groupby(\"Spending Ranges (Per Student)\").mean()\n",
    "\n",
    "spending_summary = pd.DataFrame({\n",
    "    \"Average Math Score\": school_spending_df[\"Average Math Score\"],\n",
    "    \"Average Reading Score\": school_spending_df[\"Average Reading Score\"],\n",
    "    \"% Passing Math\": school_spending_df[\"% Passing Math\"],\n",
    "    \"% Passing Reading\": school_spending_df[\"% Passing Reading\"],\n",
    "    \"% Overall Passing\": school_spending_df[\"% Overall Passing\"]\n",
    "})"
   ]
  },
  {
   "cell_type": "code",
   "execution_count": 71,
   "id": "9265b578",
   "metadata": {},
   "outputs": [
    {
     "name": "stderr",
     "output_type": "stream",
     "text": [
      "C:\\Users\\amie-lynn.shank\\AppData\\Local\\Temp\\ipykernel_21012\\2499933369.py:7: FutureWarning: The default value of numeric_only in DataFrameGroupBy.mean is deprecated. In a future version, numeric_only will default to False. Either specify numeric_only or select only columns which should be valid for the function.\n",
      "  school_size_df = per_school_summary.groupby(\"School Size\").mean()\n"
     ]
    }
   ],
   "source": [
    "#Scores by School Size\n",
    "#Create a DataFrame called size_summary that breaks down school performance based on school size(size) using the provided code.\n",
    "size_bins = [0, 1000, 2000, 5000]\n",
    "labels = [\"Small (<1000)\", \"Medium (1000-2000)\", \"Large (2000-5000)\"]\n",
    "\n",
    "per_school_summary[\"School Size\"] = pd.cut(per_school_summary[\"Total Students\"], size_bins, labels=labels)\n",
    "school_size_df = per_school_summary.groupby(\"School Size\").mean()\n",
    "\n",
    "size_summary = pd.DataFrame({\n",
    "    \"Average Math Score\": school_size_df[\"Average Math Score\"],\n",
    "    \"Average Reading Score\": school_size_df[\"Average Reading Score\"],\n",
    "    \"% Passing Math\": school_size_df[\"% Passing Math\"],\n",
    "    \"% Passing Reading\": school_size_df[\"% Passing Reading\"],\n",
    "    \"% Overall Passing\": school_size_df[\"% Overall Passing\"]\n",
    "})"
   ]
  },
  {
   "cell_type": "code",
   "execution_count": 72,
   "id": "940fcb39",
   "metadata": {},
   "outputs": [
    {
     "name": "stderr",
     "output_type": "stream",
     "text": [
      "C:\\Users\\amie-lynn.shank\\AppData\\Local\\Temp\\ipykernel_21012\\1682065682.py:3: FutureWarning: The default value of numeric_only in DataFrameGroupBy.mean is deprecated. In a future version, numeric_only will default to False. Either specify numeric_only or select only columns which should be valid for the function.\n",
      "  type_summary = per_school_summary.groupby(\"School Type\").mean()[[\n"
     ]
    }
   ],
   "source": [
    "#Scores by School Type\n",
    "#Create a DataFrame called type_summary that shows school performance based on the \"School Type\".\n",
    "type_summary = per_school_summary.groupby(\"School Type\").mean()[[\n",
    "    \"Average Math Score\",\n",
    "    \"Average Reading Score\",\n",
    "    \"% Passing Math\",\n",
    "    \"% Passing Reading\",\n",
    "    \"% Overall Passing\"\n",
    "]]"
   ]
  },
  {
   "cell_type": "code",
   "execution_count": null,
   "id": "f9b5fb08",
   "metadata": {},
   "outputs": [],
   "source": []
  }
 ],
 "metadata": {
  "kernelspec": {
   "display_name": "Python 3 (ipykernel)",
   "language": "python",
   "name": "python3"
  },
  "language_info": {
   "codemirror_mode": {
    "name": "ipython",
    "version": 3
   },
   "file_extension": ".py",
   "mimetype": "text/x-python",
   "name": "python",
   "nbconvert_exporter": "python",
   "pygments_lexer": "ipython3",
   "version": "3.10.11"
  }
 },
 "nbformat": 4,
 "nbformat_minor": 5
}
